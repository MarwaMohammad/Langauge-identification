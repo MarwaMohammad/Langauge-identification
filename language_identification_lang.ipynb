{
 "cells": [
  {
   "cell_type": "markdown",
   "id": "99f93d6a",
   "metadata": {},
   "source": [
    "# Language Classification using the Trigram Features\n",
    "\n",
    "\n",
    "## Contents\n",
    "1. [Introduction](#1.-Introduction)\n",
    "2. [Reading Data](#2.-Reading-Data)\n",
    "3. [Analyzing and Preparing the Data](#3.-Analyzing-and-Preparing-the-Data)\n",
    "4. [Preprocessing](#4.-Preprocessing)\n",
    "5. [Feature Engineering](#5.-Feature-Engineering)\n",
    "6. [Modeling](#6.-Modeling)\n",
    "7. [Evaluation](#7.-Evaluation)\n",
    "8. [Inference](#8.-Inference)\n",
    "9. [References](#9.-References)\n",
    "\n",
    "\n",
    "## 1. Introduction\n",
    "Language identification is the 1st step that should be done before modeling the text or even preprocessing. Today, there is much online avialable social-media data in all languages. The same post or tweet has a mix of two or more languages. So, you can see German, and English in the same tweet. So, before the preprocessing step, the language should be identified to define suitable tools for each language in the preprocessing.\n",
    "\n",
    "To be able to do the language classification task, I used the data avialable from this [link](https://downloads.tatoeba.org/exports/sentences.csv), This CSV data file contains many languages text.\n",
    "\n",
    "I excecuted the language classification task only on 6 latin languages. So, I extracted text data in the following languages:\n",
    "<li>English</li>\n",
    "<li>German</li>\n",
    "<li>Frensh</li>\n",
    "<li>Italian</li>\n",
    "<li>Spanish</li>\n",
    "<li>Portugees</li>\n",
    "\n",
    "In Reading Data section, you will find the code responsible for reading the dataset.\n",
    "\n",
    "In Analyzing and Preparing the Data section, I started to analyze the dataset to know more information about the dataset. This will help to work on this dataset. Then, I prepared the dataset by cleaning it from nan values to have a consistent dataset. And then, I extracted the required texts on the above list of languages. Finally, I divided it into training, validation, and testing. \n",
    "\n",
    "In preprocessing section, I normalized the text by lowering it, and normalizing spaces. Also, I removed punctuation and digits from the data. The digits are the same in all latin languages.\n",
    "\n",
    "\n",
    "In Feature extracting part, I strated to extract the following features:\n",
    "- 3-gram.\n",
    "- 4-gram.\n",
    "- 5-gram.\n",
    "\n",
    "I extracted the most common 400 features 3-5 grams for each language. Then, I combined all of the features together and removed the commo features between languages. so that we have 1564 feature from all languages instead of having 400*6=2400\n",
    "\n",
    "In modeling part, I started to build the model using the nueral network fully connected layers. I used a keras as a framework to build the model. The model consists of input layer, 5 fully conected layers with relu activation layer, and finally the ouput layer with 6 diffrent outputs and softmax activation layer to choose the highest lable probability.\n",
    "\n"
   ]
  },
  {
   "cell_type": "markdown",
   "id": "51391d4b",
   "metadata": {},
   "source": [
    "![Model Architecture](img/image.png)\n"
   ]
  },
  {
   "cell_type": "markdown",
   "id": "c7be8bb7",
   "metadata": {},
   "source": [
    "\n",
    "Also, in modeling part, I tunned the hyperparamters as follows:\n",
    "<li>Hidden units numbers</li>\n",
    "<li>Epochs number</li>\n",
    "<li>Activation function</li>\n",
    "<li>Batch size</li>\n",
    "\n",
    "\n",
    "In evaluation part, I used the model output from modeling part on testing data mainly. I used both confusion matrix and the accuracy metrics to evaluate the model. The model achieved more than 0.99.\n",
    "\n",
    "In inference part, I used the model to predict the input sentences. For me, I tried it. You can try it too! :)\n",
    "\n",
    "Finally, I'd like to confirm, this language classification model done on only 6 latin languages. If you you would like to apply it on other languages. My suggested approach, is to do a model for the languages Common in alphabets together. To illustrate more, there should be a model for defrentiating the chinees, japanes, and korean. Also, there should be another model to defrentiate between Arabic and urdo. Also, there should be model to defrentiate between latin langaues like English, German,...ect. Of course, each model has its own preprocessing tools. So, the Arabic letters model has diffrent tool from latin letters model. \n",
    "\n",
    "In case of inference step, to define the model which will be used in the prediction, there should be a condition detecting the type of characters used in the input sentences if they are latin, arabic, or chinees characters. This step will help to deifne which model will be used in the prediction.\n",
    "\n",
    "## 2. Reading Data"
   ]
  },
  {
   "cell_type": "code",
   "execution_count": 1,
   "id": "bc4f5cb8",
   "metadata": {},
   "outputs": [],
   "source": [
    "#Pandas is used to show the csv data\n",
    "import pandas as pd"
   ]
  },
  {
   "cell_type": "code",
   "execution_count": 151,
   "id": "e1293a5c",
   "metadata": {},
   "outputs": [],
   "source": [
    "# Reading CSV\n",
    "df = pd.read_csv('data/sentences.csv', sep='\\t', encoding='utf8', index_col=0 ,names = ['Language', 'sentence'] )"
   ]
  },
  {
   "cell_type": "code",
   "execution_count": 3,
   "id": "01a1b93e",
   "metadata": {
    "scrolled": true
   },
   "outputs": [
    {
     "data": {
      "text/html": [
       "<div>\n",
       "<style scoped>\n",
       "    .dataframe tbody tr th:only-of-type {\n",
       "        vertical-align: middle;\n",
       "    }\n",
       "\n",
       "    .dataframe tbody tr th {\n",
       "        vertical-align: top;\n",
       "    }\n",
       "\n",
       "    .dataframe thead th {\n",
       "        text-align: right;\n",
       "    }\n",
       "</style>\n",
       "<table border=\"1\" class=\"dataframe\">\n",
       "  <thead>\n",
       "    <tr style=\"text-align: right;\">\n",
       "      <th></th>\n",
       "      <th>Language</th>\n",
       "      <th>sentence</th>\n",
       "    </tr>\n",
       "  </thead>\n",
       "  <tbody>\n",
       "    <tr>\n",
       "      <th>1</th>\n",
       "      <td>cmn</td>\n",
       "      <td>我們試試看！</td>\n",
       "    </tr>\n",
       "    <tr>\n",
       "      <th>2</th>\n",
       "      <td>cmn</td>\n",
       "      <td>我该去睡觉了。</td>\n",
       "    </tr>\n",
       "    <tr>\n",
       "      <th>3</th>\n",
       "      <td>cmn</td>\n",
       "      <td>你在干什麼啊？</td>\n",
       "    </tr>\n",
       "    <tr>\n",
       "      <th>4</th>\n",
       "      <td>cmn</td>\n",
       "      <td>這是什麼啊？</td>\n",
       "    </tr>\n",
       "    <tr>\n",
       "      <th>5</th>\n",
       "      <td>cmn</td>\n",
       "      <td>今天是６月１８号，也是Muiriel的生日！</td>\n",
       "    </tr>\n",
       "  </tbody>\n",
       "</table>\n",
       "</div>"
      ],
      "text/plain": [
       "  Language                sentence\n",
       "1      cmn                  我們試試看！\n",
       "2      cmn                 我该去睡觉了。\n",
       "3      cmn                 你在干什麼啊？\n",
       "4      cmn                  這是什麼啊？\n",
       "5      cmn  今天是６月１８号，也是Muiriel的生日！"
      ]
     },
     "execution_count": 3,
     "metadata": {},
     "output_type": "execute_result"
    }
   ],
   "source": [
    "# Showing the head of the dataframe\n",
    "df.head()"
   ]
  },
  {
   "cell_type": "markdown",
   "id": "06c137a7",
   "metadata": {},
   "source": [
    "## 3. Analyzing and Preparing the Data"
   ]
  },
  {
   "cell_type": "markdown",
   "id": "b5816fe7",
   "metadata": {},
   "source": [
    "As we see here we have 406 language, But I will select only 6 languages from this dataframe. Also, I will consider sentetnces between 8 to 200 characters."
   ]
  },
  {
   "cell_type": "code",
   "execution_count": 118,
   "id": "0307ffec",
   "metadata": {},
   "outputs": [
    {
     "name": "stdout",
     "output_type": "stream",
     "text": [
      "<class 'pandas.core.frame.DataFrame'>\n",
      "Int64Index: 10375202 entries, 1 to 10827772\n",
      "Data columns (total 2 columns):\n",
      " #   Column    Dtype \n",
      "---  ------    ----- \n",
      " 0   Language  object\n",
      " 1   sentence  object\n",
      "dtypes: object(2)\n",
      "memory usage: 237.5+ MB\n"
     ]
    }
   ],
   "source": [
    "#To shows information about the dataset columns.\n",
    "df.info()"
   ]
  },
  {
   "cell_type": "code",
   "execution_count": 4,
   "id": "da75dc24",
   "metadata": {
    "scrolled": false
   },
   "outputs": [
    {
     "data": {
      "text/plain": [
       "406"
      ]
     },
     "execution_count": 4,
     "metadata": {},
     "output_type": "execute_result"
    }
   ],
   "source": [
    "#Showing the number of languages we have inside the dataset.\n",
    "len(df.Language.unique())"
   ]
  },
  {
   "cell_type": "markdown",
   "id": "6a7caf9a",
   "metadata": {},
   "source": [
    "Cleaning data from NaN values to have consistent data"
   ]
  },
  {
   "cell_type": "code",
   "execution_count": 5,
   "id": "265fb1c3",
   "metadata": {},
   "outputs": [],
   "source": [
    "df.dropna(subset =['Language', 'sentence'], inplace=True)"
   ]
  },
  {
   "cell_type": "markdown",
   "id": "1e3a634e",
   "metadata": {},
   "source": [
    "Defining the 6 languages which I will use in this task."
   ]
  },
  {
   "cell_type": "code",
   "execution_count": 6,
   "id": "c5df80ba",
   "metadata": {},
   "outputs": [],
   "source": [
    "lang_ls = ['eng', 'deu', 'fra', 'ita', 'spa', 'por']"
   ]
  },
  {
   "cell_type": "code",
   "execution_count": 7,
   "id": "4b1952f2",
   "metadata": {},
   "outputs": [],
   "source": [
    "#Extracting all sentences in the above lang_ls\n",
    "class_df = df[df.Language.isin(lang_ls)]"
   ]
  },
  {
   "cell_type": "code",
   "execution_count": 8,
   "id": "4961666c",
   "metadata": {},
   "outputs": [],
   "source": [
    "#Reset the index column\n",
    "class_df.reset_index(drop=True, inplace=True)"
   ]
  },
  {
   "cell_type": "code",
   "execution_count": 9,
   "id": "0ce4805d",
   "metadata": {
    "scrolled": true
   },
   "outputs": [
    {
     "data": {
      "text/plain": [
       "(4256775, 2)"
      ]
     },
     "execution_count": 9,
     "metadata": {},
     "output_type": "execute_result"
    }
   ],
   "source": [
    "class_df.shape"
   ]
  },
  {
   "cell_type": "markdown",
   "id": "404132d5",
   "metadata": {},
   "source": [
    "Now, we have 4256775 sentence inside the dataset. Next, I will select senetences length between 8 and 200 characters"
   ]
  },
  {
   "cell_type": "code",
   "execution_count": 10,
   "id": "d68c6ac0",
   "metadata": {},
   "outputs": [],
   "source": [
    "# consedring only sentetnce between 8 and 200\n",
    "len_cond = [True if 8<=len(s)<=200 else False for s in class_df['sentence']]"
   ]
  },
  {
   "cell_type": "code",
   "execution_count": 11,
   "id": "7d38c4e4",
   "metadata": {},
   "outputs": [],
   "source": [
    "class_df = class_df[len_cond]"
   ]
  },
  {
   "cell_type": "code",
   "execution_count": 12,
   "id": "085f1163",
   "metadata": {},
   "outputs": [
    {
     "data": {
      "text/plain": [
       "(1521698, 2)"
      ]
     },
     "execution_count": 12,
     "metadata": {},
     "output_type": "execute_result"
    }
   ],
   "source": [
    "class_df.shape"
   ]
  },
  {
   "cell_type": "markdown",
   "id": "722c4fd8",
   "metadata": {},
   "source": [
    "Now we have only 1521698 sentences, Now, lets obtain the sentences count for each language"
   ]
  },
  {
   "cell_type": "code",
   "execution_count": 13,
   "id": "8005b573",
   "metadata": {},
   "outputs": [
    {
     "data": {
      "text/plain": [
       "Language\n",
       "False    947031\n",
       "True     574667\n",
       "dtype: int64"
      ]
     },
     "execution_count": 13,
     "metadata": {},
     "output_type": "execute_result"
    }
   ],
   "source": [
    "class_df.value_counts(class_df.Language=='eng')"
   ]
  },
  {
   "cell_type": "code",
   "execution_count": 14,
   "id": "ba8aa442",
   "metadata": {},
   "outputs": [
    {
     "data": {
      "text/plain": [
       "Language\n",
       "False    1327265\n",
       "True      194433\n",
       "dtype: int64"
      ]
     },
     "execution_count": 14,
     "metadata": {},
     "output_type": "execute_result"
    }
   ],
   "source": [
    "class_df.value_counts(class_df.Language=='fra')"
   ]
  },
  {
   "cell_type": "code",
   "execution_count": 15,
   "id": "7869f4a0",
   "metadata": {},
   "outputs": [
    {
     "data": {
      "text/plain": [
       "Language\n",
       "False    1235682\n",
       "True      286016\n",
       "dtype: int64"
      ]
     },
     "execution_count": 15,
     "metadata": {},
     "output_type": "execute_result"
    }
   ],
   "source": [
    "class_df.value_counts(class_df.Language=='deu')"
   ]
  },
  {
   "cell_type": "code",
   "execution_count": 16,
   "id": "62f76406",
   "metadata": {
    "scrolled": false
   },
   "outputs": [
    {
     "data": {
      "text/plain": [
       "Language\n",
       "False    1319261\n",
       "True      202437\n",
       "dtype: int64"
      ]
     },
     "execution_count": 16,
     "metadata": {},
     "output_type": "execute_result"
    }
   ],
   "source": [
    "class_df.value_counts(class_df.Language=='ita')"
   ]
  },
  {
   "cell_type": "code",
   "execution_count": 17,
   "id": "20b8a9b6",
   "metadata": {
    "scrolled": true
   },
   "outputs": [
    {
     "data": {
      "text/plain": [
       "Language\n",
       "False    1386775\n",
       "True      134923\n",
       "dtype: int64"
      ]
     },
     "execution_count": 17,
     "metadata": {},
     "output_type": "execute_result"
    }
   ],
   "source": [
    "class_df.value_counts(class_df.Language=='spa')"
   ]
  },
  {
   "cell_type": "code",
   "execution_count": 18,
   "id": "826f4c78",
   "metadata": {},
   "outputs": [
    {
     "data": {
      "text/plain": [
       "Language\n",
       "False    1392476\n",
       "True      129222\n",
       "dtype: int64"
      ]
     },
     "execution_count": 18,
     "metadata": {},
     "output_type": "execute_result"
    }
   ],
   "source": [
    "class_df.value_counts(class_df.Language=='por')"
   ]
  },
  {
   "cell_type": "markdown",
   "id": "b071055e",
   "metadata": {},
   "source": [
    "So, we have 574667 English sentences, 194433 french sentences, 286016 german sentences, 202437 Italian sentences, 134923 Spanish sentences, and  134923 Portuguese sentences.\n",
    "\n",
    "Now I will select 30000 sentences from each language randomly. To do so, I will use the sample(). This method will help to create sample space randomly from the given data in a specific number of elements.  Here I chose 50000 rows of each language to be sampled from each language."
   ]
  },
  {
   "cell_type": "code",
   "execution_count": 19,
   "id": "198dc94c",
   "metadata": {},
   "outputs": [],
   "source": [
    "selected_df = pd.DataFrame()\n",
    "for l in lang_ls:\n",
    "    selected_sent = class_df[class_df['Language'] == l].sample(50000,random_state = 100)\n",
    "    selected_df = selected_df.append(selected_sent)"
   ]
  },
  {
   "cell_type": "code",
   "execution_count": 20,
   "id": "77722946",
   "metadata": {},
   "outputs": [],
   "source": [
    "# reset indcies from 0, to max\n",
    "selected_df.reset_index(drop=True, inplace=True)"
   ]
  },
  {
   "cell_type": "code",
   "execution_count": 21,
   "id": "290ff04e",
   "metadata": {},
   "outputs": [
    {
     "data": {
      "text/html": [
       "<div>\n",
       "<style scoped>\n",
       "    .dataframe tbody tr th:only-of-type {\n",
       "        vertical-align: middle;\n",
       "    }\n",
       "\n",
       "    .dataframe tbody tr th {\n",
       "        vertical-align: top;\n",
       "    }\n",
       "\n",
       "    .dataframe thead th {\n",
       "        text-align: right;\n",
       "    }\n",
       "</style>\n",
       "<table border=\"1\" class=\"dataframe\">\n",
       "  <thead>\n",
       "    <tr style=\"text-align: right;\">\n",
       "      <th></th>\n",
       "      <th>Language</th>\n",
       "      <th>sentence</th>\n",
       "    </tr>\n",
       "  </thead>\n",
       "  <tbody>\n",
       "    <tr>\n",
       "      <th>0</th>\n",
       "      <td>eng</td>\n",
       "      <td>Tom and Mary both began wearing glasses when t...</td>\n",
       "    </tr>\n",
       "    <tr>\n",
       "      <th>1</th>\n",
       "      <td>eng</td>\n",
       "      <td>Tom and Mary should tell John they won't do that.</td>\n",
       "    </tr>\n",
       "    <tr>\n",
       "      <th>2</th>\n",
       "      <td>eng</td>\n",
       "      <td>I thought you said that the meeting was next M...</td>\n",
       "    </tr>\n",
       "    <tr>\n",
       "      <th>3</th>\n",
       "      <td>eng</td>\n",
       "      <td>If you don't act like a good boy, you won't ge...</td>\n",
       "    </tr>\n",
       "    <tr>\n",
       "      <th>4</th>\n",
       "      <td>eng</td>\n",
       "      <td>Tom and Mary told me you agreed with them.</td>\n",
       "    </tr>\n",
       "    <tr>\n",
       "      <th>...</th>\n",
       "      <td>...</td>\n",
       "      <td>...</td>\n",
       "    </tr>\n",
       "    <tr>\n",
       "      <th>299995</th>\n",
       "      <td>por</td>\n",
       "      <td>O futuro e o passado são indistinguíveis.</td>\n",
       "    </tr>\n",
       "    <tr>\n",
       "      <th>299996</th>\n",
       "      <td>por</td>\n",
       "      <td>Pensarei em você todos os dias em que estiver ...</td>\n",
       "    </tr>\n",
       "    <tr>\n",
       "      <th>299997</th>\n",
       "      <td>por</td>\n",
       "      <td>Guarda-chuvas são bem úteis quando está chovendo.</td>\n",
       "    </tr>\n",
       "    <tr>\n",
       "      <th>299998</th>\n",
       "      <td>por</td>\n",
       "      <td>Nós deveríamos, também, esperar até que o Tom ...</td>\n",
       "    </tr>\n",
       "    <tr>\n",
       "      <th>299999</th>\n",
       "      <td>por</td>\n",
       "      <td>Se você for até lá e não vir ninguém, volte em...</td>\n",
       "    </tr>\n",
       "  </tbody>\n",
       "</table>\n",
       "<p>300000 rows × 2 columns</p>\n",
       "</div>"
      ],
      "text/plain": [
       "       Language                                           sentence\n",
       "0           eng  Tom and Mary both began wearing glasses when t...\n",
       "1           eng  Tom and Mary should tell John they won't do that.\n",
       "2           eng  I thought you said that the meeting was next M...\n",
       "3           eng  If you don't act like a good boy, you won't ge...\n",
       "4           eng         Tom and Mary told me you agreed with them.\n",
       "...         ...                                                ...\n",
       "299995      por          O futuro e o passado são indistinguíveis.\n",
       "299996      por  Pensarei em você todos os dias em que estiver ...\n",
       "299997      por  Guarda-chuvas são bem úteis quando está chovendo.\n",
       "299998      por  Nós deveríamos, também, esperar até que o Tom ...\n",
       "299999      por  Se você for até lá e não vir ninguém, volte em...\n",
       "\n",
       "[300000 rows x 2 columns]"
      ]
     },
     "execution_count": 21,
     "metadata": {},
     "output_type": "execute_result"
    }
   ],
   "source": [
    "selected_df"
   ]
  },
  {
   "cell_type": "markdown",
   "id": "11a702fe",
   "metadata": {},
   "source": [
    "Now we have our dataset consisting of 300000 sentences of 6 langauges.\n",
    "\n",
    "Next, I will divide it into training, validation, and testing data randomly. Selecting the data randomly will decrease the overfitting."
   ]
  },
  {
   "cell_type": "code",
   "execution_count": 22,
   "id": "b081528a",
   "metadata": {},
   "outputs": [],
   "source": [
    "data_shuffle = selected_df.sample(frac=1, random_state=1)"
   ]
  },
  {
   "cell_type": "code",
   "execution_count": 23,
   "id": "5c21c783",
   "metadata": {},
   "outputs": [],
   "source": [
    "train = data_shuffle[0:240000]\n",
    "validation = data_shuffle[240000:270000]\n",
    "test = data_shuffle[270000:300000]"
   ]
  },
  {
   "cell_type": "code",
   "execution_count": 24,
   "id": "53804520",
   "metadata": {},
   "outputs": [
    {
     "data": {
      "text/plain": [
       "(40069, 2)"
      ]
     },
     "execution_count": 24,
     "metadata": {},
     "output_type": "execute_result"
    }
   ],
   "source": [
    "train[train.Language == 'deu'].shape"
   ]
  },
  {
   "cell_type": "code",
   "execution_count": 25,
   "id": "8089e9bb",
   "metadata": {},
   "outputs": [
    {
     "data": {
      "text/plain": [
       "(40105, 2)"
      ]
     },
     "execution_count": 25,
     "metadata": {},
     "output_type": "execute_result"
    }
   ],
   "source": [
    "train[train.Language == 'eng'].shape"
   ]
  },
  {
   "cell_type": "code",
   "execution_count": 26,
   "id": "9cd62f6b",
   "metadata": {},
   "outputs": [
    {
     "data": {
      "text/plain": [
       "(40001, 2)"
      ]
     },
     "execution_count": 26,
     "metadata": {},
     "output_type": "execute_result"
    }
   ],
   "source": [
    "train[train.Language == 'fra'].shape"
   ]
  },
  {
   "cell_type": "code",
   "execution_count": 27,
   "id": "443fa5d4",
   "metadata": {
    "scrolled": true
   },
   "outputs": [
    {
     "data": {
      "text/plain": [
       "(39912, 2)"
      ]
     },
     "execution_count": 27,
     "metadata": {},
     "output_type": "execute_result"
    }
   ],
   "source": [
    "train[train.Language == 'ita'].shape"
   ]
  },
  {
   "cell_type": "code",
   "execution_count": 28,
   "id": "eeb58fba",
   "metadata": {},
   "outputs": [
    {
     "data": {
      "text/plain": [
       "(39899, 2)"
      ]
     },
     "execution_count": 28,
     "metadata": {},
     "output_type": "execute_result"
    }
   ],
   "source": [
    "train[train.Language == 'spa'].shape"
   ]
  },
  {
   "cell_type": "code",
   "execution_count": 29,
   "id": "1979c38f",
   "metadata": {},
   "outputs": [
    {
     "data": {
      "text/plain": [
       "(40014, 2)"
      ]
     },
     "execution_count": 29,
     "metadata": {},
     "output_type": "execute_result"
    }
   ],
   "source": [
    "train[train.Language == 'por'].shape"
   ]
  },
  {
   "cell_type": "markdown",
   "id": "b3118d26",
   "metadata": {},
   "source": [
    "Now, We have training, validation, and testing data. Let's go to the next Step, Pre-processing.\n",
    "\n",
    "## 4. Preprocessing\n",
    "\n",
    "Here, I will clean the training, validation, and testing from punctuations and digits. Inaddition to the space normalization, and lowering."
   ]
  },
  {
   "cell_type": "code",
   "execution_count": 125,
   "id": "a07a7555",
   "metadata": {},
   "outputs": [
    {
     "name": "stderr",
     "output_type": "stream",
     "text": [
      "C:\\Users\\marwa\\AppData\\Local\\Temp\\ipykernel_30016\\1474249837.py:20: SettingWithCopyWarning: \n",
      "A value is trying to be set on a copy of a slice from a DataFrame.\n",
      "Try using .loc[row_indexer,col_indexer] = value instead\n",
      "\n",
      "See the caveats in the documentation: https://pandas.pydata.org/pandas-docs/stable/user_guide/indexing.html#returning-a-view-versus-a-copy\n",
      "  train['sentence'] = pro_process(train.sentence)\n",
      "C:\\Users\\marwa\\AppData\\Local\\Temp\\ipykernel_30016\\1474249837.py:21: SettingWithCopyWarning: \n",
      "A value is trying to be set on a copy of a slice from a DataFrame.\n",
      "Try using .loc[row_indexer,col_indexer] = value instead\n",
      "\n",
      "See the caveats in the documentation: https://pandas.pydata.org/pandas-docs/stable/user_guide/indexing.html#returning-a-view-versus-a-copy\n",
      "  validation['sentence'] = pro_process(validation.sentence)\n",
      "C:\\Users\\marwa\\AppData\\Local\\Temp\\ipykernel_30016\\1474249837.py:22: SettingWithCopyWarning: \n",
      "A value is trying to be set on a copy of a slice from a DataFrame.\n",
      "Try using .loc[row_indexer,col_indexer] = value instead\n",
      "\n",
      "See the caveats in the documentation: https://pandas.pydata.org/pandas-docs/stable/user_guide/indexing.html#returning-a-view-versus-a-copy\n",
      "  test['sentence'] = pro_process(test.sentence)\n"
     ]
    }
   ],
   "source": [
    "from string import digits\n",
    "import string\n",
    "\n",
    "def pro_process(target_ls):\n",
    "    data_list = []\n",
    "    \n",
    "    # Lowering all the texts\n",
    "    data_list = target_ls.apply(lambda x: x.lower())\n",
    "    \n",
    "    # Removing the texts punctuations\n",
    "    exclude = set(string.punctuation)\n",
    "    data_list = data_list.apply(lambda x: ''.join(ch for ch in x if ch not in exclude))\n",
    "    \n",
    "    # Removing distances\n",
    "    data_list = data_list.apply(lambda x: \" \".join(x.split())) \n",
    "    \n",
    "    # Removing the digits from the texts\n",
    "    remove_digits = str.maketrans('', '', digits)\n",
    "    data_list = data_list.apply(lambda x: x.translate(remove_digits)) \n",
    "\n",
    " \n",
    "    return data_list\n",
    "    \n",
    "train['sentence'] = pro_process(train.sentence)\n",
    "validation['sentence'] = pro_process(validation.sentence)\n",
    "test['sentence'] = pro_process(test.sentence)"
   ]
  },
  {
   "cell_type": "code",
   "execution_count": 136,
   "id": "d5475cba",
   "metadata": {},
   "outputs": [
    {
     "data": {
      "text/plain": [
       "False"
      ]
     },
     "execution_count": 136,
     "metadata": {},
     "output_type": "execute_result"
    }
   ],
   "source": [
    "#Ckecking if any numerical values inside the training dataset\n",
    "train.sentence.str.isnumeric().any()"
   ]
  },
  {
   "cell_type": "markdown",
   "id": "8eda5bb2",
   "metadata": {},
   "source": [
    "## 5. Feature Engineering\n",
    "Before feeding the data into the model, it should be converted into convenient format which the model can understand. Here, I will use the Trigram, 4-gram, 5-gram characters features. I will extract the trigrams for each language, then I will combine them together. I will try to extract the most common 200 from each langauage."
   ]
  },
  {
   "cell_type": "code",
   "execution_count": 137,
   "id": "00619ec8",
   "metadata": {},
   "outputs": [],
   "source": [
    "from sklearn.feature_extraction.text import CountVectorizer\n",
    "n_gram = (3, 5)\n",
    "\n",
    "def extract_trigrams(sentences, n_feat=400):   \n",
    "   \n",
    "    #fit the n-gram model\n",
    "    vectorizer = CountVectorizer(analyzer='char', ngram_range=n_gram , max_features=n_feat)\n",
    "    \n",
    "    X = vectorizer.fit_transform(sentences)\n",
    "    \n",
    "    #Get model feature names\n",
    "    feature_names = vectorizer.get_feature_names()\n",
    "    \n",
    "    return feature_names"
   ]
  },
  {
   "cell_type": "code",
   "execution_count": 138,
   "id": "43f93a3d",
   "metadata": {},
   "outputs": [],
   "source": [
    "#obtain trigrams from each language\n",
    "features = {}\n",
    "features_set = set()\n",
    "\n",
    "for l in lang_ls:\n",
    "    \n",
    "    #extract sentences filtered by language\n",
    "    sentences = train[train.Language==l]['sentence']\n",
    "    \n",
    "    #extract the most common 250 trigrams\n",
    "    trigrams = extract_trigrams(sentences)\n",
    "    \n",
    "    #add to dict and set\n",
    "    features[l] = trigrams \n",
    "    features_set.update(trigrams)\n",
    "\n",
    "    \n",
    "#create vocabulary list using feature set\n",
    "vocab_index = dict()\n",
    "for index, feature in enumerate(features_set):\n",
    "    vocab_index[feature]=index"
   ]
  },
  {
   "cell_type": "code",
   "execution_count": 139,
   "id": "d4c9fc84",
   "metadata": {},
   "outputs": [
    {
     "data": {
      "text/plain": [
       "{'i w': 0,\n",
       " 'or ': 1,\n",
       " 'want': 2,\n",
       " 'str': 3,\n",
       " 'zio': 4,\n",
       " ' uma': 5,\n",
       " 'o o': 6,\n",
       " 'd m': 7,\n",
       " 'you': 8,\n",
       " 'of t': 9,\n",
       " 'ais': 10,\n",
       " ' sich': 11,\n",
       " 'o pe': 12,\n",
       " 'tta': 13,\n",
       " 'hat ': 14,\n",
       " 'quer': 15,\n",
       " 'ass ': 16,\n",
       " 'las ': 17,\n",
       " 'plus ': 18,\n",
       " 'oir': 19,\n",
       " 'nich': 20,\n",
       " 'cht': 21,\n",
       " 'ción ': 22,\n",
       " ' tem': 23,\n",
       " 'nn ': 24,\n",
       " 'o tha': 25,\n",
       " 'iene': 26,\n",
       " 'le p': 27,\n",
       " 'a o': 28,\n",
       " 'dan': 29,\n",
       " 'ode': 30,\n",
       " ' on': 31,\n",
       " 'lie': 32,\n",
       " 'uch': 33,\n",
       " ' voc': 34,\n",
       " 'oug': 35,\n",
       " 'uan': 36,\n",
       " 'tto ': 37,\n",
       " 'hey ': 38,\n",
       " 'ing ': 39,\n",
       " 'ge ': 40,\n",
       " 'ría': 41,\n",
       " ' and': 42,\n",
       " 'eir': 43,\n",
       " 'ostr': 44,\n",
       " ' par': 45,\n",
       " 'o v': 46,\n",
       " ' is': 47,\n",
       " ' to': 48,\n",
       " 'vou': 49,\n",
       " ' war': 50,\n",
       " 's un': 51,\n",
       " ' ei': 52,\n",
       " ' mit ': 53,\n",
       " 'o che': 54,\n",
       " 'ng to': 55,\n",
       " ' faze': 56,\n",
       " ' i ': 57,\n",
       " 'ouve': 58,\n",
       " 't ei': 59,\n",
       " 'hing': 60,\n",
       " 'des': 61,\n",
       " 'h h': 62,\n",
       " ' plus': 63,\n",
       " 'tio': 64,\n",
       " ' mary': 65,\n",
       " 'u a': 66,\n",
       " 'vous ': 67,\n",
       " 'cho': 68,\n",
       " 'wan': 69,\n",
       " ' know': 70,\n",
       " 't le': 71,\n",
       " 't p': 72,\n",
       " 'i p': 73,\n",
       " 'inen ': 74,\n",
       " ' ges': 75,\n",
       " 'm s': 76,\n",
       " 'e r': 77,\n",
       " ' thin': 78,\n",
       " 'ers': 79,\n",
       " 're ': 80,\n",
       " 'n the': 81,\n",
       " ' do t': 82,\n",
       " ' fai': 83,\n",
       " ' dans': 84,\n",
       " 'ava ': 85,\n",
       " 'es d': 86,\n",
       " ' más': 87,\n",
       " 's v': 88,\n",
       " ' pue': 89,\n",
       " ' hi': 90,\n",
       " 'ão ': 91,\n",
       " ' tra': 92,\n",
       " 'cha': 93,\n",
       " ' cu': 94,\n",
       " 'stru': 95,\n",
       " ' ho': 96,\n",
       " ' não': 97,\n",
       " 'o que': 98,\n",
       " ' was ': 99,\n",
       " 't d': 100,\n",
       " ' ti': 101,\n",
       " 'emen': 102,\n",
       " 't w': 103,\n",
       " 'eve': 104,\n",
       " 'ana': 105,\n",
       " ' la ': 106,\n",
       " 's q': 107,\n",
       " ' ni': 108,\n",
       " 'ing': 109,\n",
       " 'tai': 110,\n",
       " 'a in': 111,\n",
       " 'with ': 112,\n",
       " 'ort': 113,\n",
       " 'o q': 114,\n",
       " ' en e': 115,\n",
       " 'ssa': 116,\n",
       " 'tom a': 117,\n",
       " 'ría ': 118,\n",
       " 'e a': 119,\n",
       " 'kno': 120,\n",
       " 'ruire': 121,\n",
       " 'zion': 122,\n",
       " 'nge': 123,\n",
       " ' er': 124,\n",
       " 'not': 125,\n",
       " ' fü': 126,\n",
       " ' wie': 127,\n",
       " 'uma ': 128,\n",
       " 'to t': 129,\n",
       " 'ntr': 130,\n",
       " 'e ma': 131,\n",
       " 'sono': 132,\n",
       " 'snt ': 133,\n",
       " 'ion': 134,\n",
       " 'a m': 135,\n",
       " 'ut ': 136,\n",
       " 'oss': 137,\n",
       " 'ehr': 138,\n",
       " ' mui': 139,\n",
       " ' vi': 140,\n",
       " 'de l': 141,\n",
       " ' je ': 142,\n",
       " 'ett': 143,\n",
       " 'anc': 144,\n",
       " 'uf ': 145,\n",
       " 'en si': 146,\n",
       " 'rst': 147,\n",
       " 'ba ': 148,\n",
       " 'ch ': 149,\n",
       " 'ow ': 150,\n",
       " 'che n': 151,\n",
       " ' mu': 152,\n",
       " ' ma': 153,\n",
       " ' of': 154,\n",
       " 'pro': 155,\n",
       " 'tá ': 156,\n",
       " 'e q': 157,\n",
       " 'ment ': 158,\n",
       " 'm w': 159,\n",
       " 't q': 160,\n",
       " 'os d': 161,\n",
       " 'to d': 162,\n",
       " 'gen': 163,\n",
       " 'non ': 164,\n",
       " 'ção': 165,\n",
       " 'e co': 166,\n",
       " 'e à': 167,\n",
       " 'ere ': 168,\n",
       " 'ink': 169,\n",
       " ' wi': 170,\n",
       " 'at ': 171,\n",
       " ' is ': 172,\n",
       " 'ued': 173,\n",
       " 'om an': 174,\n",
       " 'cia': 175,\n",
       " 'e es': 176,\n",
       " ' un': 177,\n",
       " 'and ': 178,\n",
       " 'ina': 179,\n",
       " ' ques': 180,\n",
       " 'he ': 181,\n",
       " ' the': 182,\n",
       " 'uir': 183,\n",
       " 'i n': 184,\n",
       " 'nes': 185,\n",
       " 'she ': 186,\n",
       " ' tod': 187,\n",
       " 'o co': 188,\n",
       " 'jou': 189,\n",
       " ' man': 190,\n",
       " 'hr ': 191,\n",
       " 'nci': 192,\n",
       " 'f t': 193,\n",
       " 'nd ma': 194,\n",
       " ' und': 195,\n",
       " 'anno': 196,\n",
       " 't o': 197,\n",
       " 'ido': 198,\n",
       " 'stá ': 199,\n",
       " 'n la': 200,\n",
       " 'ce ': 201,\n",
       " 'ihr': 202,\n",
       " 'm an': 203,\n",
       " 'be ': 204,\n",
       " 'um ': 205,\n",
       " 'ien': 206,\n",
       " ' non': 207,\n",
       " ' mit': 208,\n",
       " 'e e': 209,\n",
       " ' da': 210,\n",
       " ' uma ': 211,\n",
       " 'asa': 212,\n",
       " 'aze': 213,\n",
       " ' he ': 214,\n",
       " 'dass ': 215,\n",
       " 'nho': 216,\n",
       " 's c': 217,\n",
       " 'dnt': 218,\n",
       " ' con ': 219,\n",
       " ' don': 220,\n",
       " 'hou': 221,\n",
       " 'ont': 222,\n",
       " 'você ': 223,\n",
       " 'ei ': 224,\n",
       " 's f': 225,\n",
       " 'ould ': 226,\n",
       " 'de la': 227,\n",
       " 'en i': 228,\n",
       " 'd t': 229,\n",
       " 'a a': 230,\n",
       " 'alità': 231,\n",
       " ' une ': 232,\n",
       " 'he s': 233,\n",
       " 'hey': 234,\n",
       " ' des': 235,\n",
       " 'that ': 236,\n",
       " 'm t': 237,\n",
       " 'wir ': 238,\n",
       " 'ein ': 239,\n",
       " 'ta ': 240,\n",
       " 'e no': 241,\n",
       " 's th': 242,\n",
       " 'ich': 243,\n",
       " 'mes': 244,\n",
       " ' bo': 245,\n",
       " ' che': 246,\n",
       " 'nno ': 247,\n",
       " 'a e': 248,\n",
       " 'ad ': 249,\n",
       " 'an ': 250,\n",
       " 'o en': 251,\n",
       " 'mas ': 252,\n",
       " 'ient': 253,\n",
       " ' pe': 254,\n",
       " 'on v': 255,\n",
       " 'oro': 256,\n",
       " ' tou': 257,\n",
       " 'ces': 258,\n",
       " 'rai': 259,\n",
       " 'el ': 260,\n",
       " 'ons ': 261,\n",
       " 'a q': 262,\n",
       " 'r o': 263,\n",
       " 'r t': 264,\n",
       " 'ave': 265,\n",
       " 'his ': 266,\n",
       " 'oing ': 267,\n",
       " 'one': 268,\n",
       " 'a t': 269,\n",
       " 'ry ': 270,\n",
       " ' com': 271,\n",
       " 'ch h': 272,\n",
       " ' ne': 273,\n",
       " 'y a': 274,\n",
       " 'think': 275,\n",
       " 'ant': 276,\n",
       " 'hen ': 277,\n",
       " 'tie': 278,\n",
       " 'ira': 279,\n",
       " ' se': 280,\n",
       " 'thi': 281,\n",
       " ' to d': 282,\n",
       " 'ità': 283,\n",
       " 'aire': 284,\n",
       " 'et ': 285,\n",
       " 'abe': 286,\n",
       " 'd a': 287,\n",
       " 'dans ': 288,\n",
       " 'nach': 289,\n",
       " 'ros': 290,\n",
       " 'lus': 291,\n",
       " 'isch': 292,\n",
       " 'uld': 293,\n",
       " 'uis': 294,\n",
       " ' fu': 295,\n",
       " 'this ': 296,\n",
       " ' pu': 297,\n",
       " 'a v': 298,\n",
       " ' ave': 299,\n",
       " 'pour ': 300,\n",
       " 'olt': 301,\n",
       " 't ein': 302,\n",
       " 'ente': 303,\n",
       " 'aci': 304,\n",
       " 'son': 305,\n",
       " 'whe': 306,\n",
       " 'pas': 307,\n",
       " 'do ': 308,\n",
       " 'ich ': 309,\n",
       " ' les ': 310,\n",
       " 'did': 311,\n",
       " ' ne ': 312,\n",
       " ' você': 313,\n",
       " 'e di': 314,\n",
       " 'me ': 315,\n",
       " 'ele': 316,\n",
       " 'ns l': 317,\n",
       " 'not ': 318,\n",
       " 'ren ': 319,\n",
       " 'ses': 320,\n",
       " 'e w': 321,\n",
       " 'e pe': 322,\n",
       " ' wh': 323,\n",
       " 'and m': 324,\n",
       " 'n die': 325,\n",
       " 's l': 326,\n",
       " 'pour': 327,\n",
       " 'uie': 328,\n",
       " 's i': 329,\n",
       " ' sic': 330,\n",
       " 'auf': 331,\n",
       " 'ia ': 332,\n",
       " 'el p': 333,\n",
       " ' los ': 334,\n",
       " 'azi': 335,\n",
       " 'she': 336,\n",
       " 'ans ': 337,\n",
       " 'dos ': 338,\n",
       " 't he': 339,\n",
       " 'ste': 340,\n",
       " 'dell': 341,\n",
       " ' ll': 342,\n",
       " 'o a': 343,\n",
       " ' eine': 344,\n",
       " 'ert': 345,\n",
       " 'lei': 346,\n",
       " ' qui': 347,\n",
       " 'ore': 348,\n",
       " 'auf ': 349,\n",
       " 'iel': 350,\n",
       " 's e': 351,\n",
       " ' que': 352,\n",
       " 'r a': 353,\n",
       " 'e o ': 354,\n",
       " 'lle': 355,\n",
       " 'ro ': 356,\n",
       " 'e de ': 357,\n",
       " 'hre': 358,\n",
       " 'ce qu': 359,\n",
       " 'i c': 360,\n",
       " 'chte': 361,\n",
       " 'en d': 362,\n",
       " 'comm': 363,\n",
       " ' el ': 364,\n",
       " 'esta': 365,\n",
       " ' et ': 366,\n",
       " 'ai ': 367,\n",
       " 'als': 368,\n",
       " 'o p': 369,\n",
       " 'nno': 370,\n",
       " 'now': 371,\n",
       " 'truir': 372,\n",
       " 'übe': 373,\n",
       " 't de': 374,\n",
       " ' nou': 375,\n",
       " 'di ': 376,\n",
       " ' tom ': 377,\n",
       " ' não ': 378,\n",
       " 'ión': 379,\n",
       " 'o do ': 380,\n",
       " 'uer': 381,\n",
       " 'ugh': 382,\n",
       " 'sur': 383,\n",
       " 'tien': 384,\n",
       " 'ht ': 385,\n",
       " 'dos': 386,\n",
       " 'hor': 387,\n",
       " 'una': 388,\n",
       " ' vou': 389,\n",
       " 'tan': 390,\n",
       " 'a qu': 391,\n",
       " 'ent ': 392,\n",
       " 'ene': 393,\n",
       " ' for ': 394,\n",
       " ' y ': 395,\n",
       " ' cost': 396,\n",
       " 'eme': 397,\n",
       " 'ave ': 398,\n",
       " ' den ': 399,\n",
       " 'dies': 400,\n",
       " ' ist': 401,\n",
       " 'ough': 402,\n",
       " 'thin': 403,\n",
       " ' est': 404,\n",
       " 'chen ': 405,\n",
       " 'azion': 406,\n",
       " 'dem': 407,\n",
       " 'kei': 408,\n",
       " 'ir ': 409,\n",
       " 'no i': 410,\n",
       " ' mo': 411,\n",
       " 'cost': 412,\n",
       " 'e v': 413,\n",
       " 'e la ': 414,\n",
       " 'du ': 415,\n",
       " 'o e': 416,\n",
       " 'os ': 417,\n",
       " 'ch w': 418,\n",
       " 'ava': 419,\n",
       " 'a la ': 420,\n",
       " ' ve': 421,\n",
       " 'tion': 422,\n",
       " 'o a c': 423,\n",
       " ' do ': 424,\n",
       " 'wha': 425,\n",
       " 'd mar': 426,\n",
       " 'le ': 427,\n",
       " 'was ': 428,\n",
       " 'les': 429,\n",
       " 'a s': 430,\n",
       " ' pl': 431,\n",
       " 'onn': 432,\n",
       " ' tu': 433,\n",
       " 'on va': 434,\n",
       " 'mais': 435,\n",
       " 'para': 436,\n",
       " 'os p': 437,\n",
       " 'ben': 438,\n",
       " 'i che': 439,\n",
       " ' of t': 440,\n",
       " 'au ': 441,\n",
       " 'e lo': 442,\n",
       " 'know': 443,\n",
       " 'nazio': 444,\n",
       " 'd i': 445,\n",
       " 'one ': 446,\n",
       " ' ou': 447,\n",
       " ' thi': 448,\n",
       " 'ando': 449,\n",
       " 'ocê ': 450,\n",
       " 'ci ': 451,\n",
       " ' cos': 452,\n",
       " 'dad': 453,\n",
       " 'n ei': 454,\n",
       " 'elle ': 455,\n",
       " 'l c': 456,\n",
       " 'alit': 457,\n",
       " 'lla ': 458,\n",
       " 'ras': 459,\n",
       " 't t': 460,\n",
       " 'es ': 461,\n",
       " 'mme': 462,\n",
       " 'e o': 463,\n",
       " ' te': 464,\n",
       " 'ara': 465,\n",
       " 'ne p': 466,\n",
       " 'mai': 467,\n",
       " 'on ': 468,\n",
       " 'ado ': 469,\n",
       " 'mos': 470,\n",
       " 'r i': 471,\n",
       " ' with': 472,\n",
       " ' es ': 473,\n",
       " 'sein': 474,\n",
       " 'no a': 475,\n",
       " 'ern': 476,\n",
       " 'est': 477,\n",
       " ' pas': 478,\n",
       " 'a ca': 479,\n",
       " ' no': 480,\n",
       " 'nd m': 481,\n",
       " 'ies': 482,\n",
       " 'peu': 483,\n",
       " 'eur': 484,\n",
       " 'nce': 485,\n",
       " 't s': 486,\n",
       " 'at h': 487,\n",
       " 'e à ': 488,\n",
       " 'n si': 489,\n",
       " 'iam': 490,\n",
       " ' non ': 491,\n",
       " 'ate ': 492,\n",
       " 'aba': 493,\n",
       " 'com ': 494,\n",
       " ' sai': 495,\n",
       " 'nazi': 496,\n",
       " 'n c': 497,\n",
       " 'snt': 498,\n",
       " ' la': 499,\n",
       " 'inen': 500,\n",
       " 'n di': 501,\n",
       " 'amo': 502,\n",
       " 'ato ': 503,\n",
       " ' su ': 504,\n",
       " 'iona': 505,\n",
       " 'icht': 506,\n",
       " ' mar': 507,\n",
       " 'di ch': 508,\n",
       " 'strui': 509,\n",
       " 's to': 510,\n",
       " ' di': 511,\n",
       " 'era ': 512,\n",
       " ' en': 513,\n",
       " 'una ': 514,\n",
       " ' del': 515,\n",
       " 'si ': 516,\n",
       " 'man': 517,\n",
       " 'o per': 518,\n",
       " 'enc': 519,\n",
       " 'sei': 520,\n",
       " 'anno ': 521,\n",
       " 'zu ': 522,\n",
       " 'y t': 523,\n",
       " ' que ': 524,\n",
       " ' me': 525,\n",
       " 'muit': 526,\n",
       " 'was': 527,\n",
       " 'o in': 528,\n",
       " ' sh': 529,\n",
       " ' ar': 530,\n",
       " ' ele': 531,\n",
       " ' faz': 532,\n",
       " 'ndi': 533,\n",
       " 'e c': 534,\n",
       " 'ión ': 535,\n",
       " 'ier': 536,\n",
       " 'ill ': 537,\n",
       " 'e j': 538,\n",
       " 'lich': 539,\n",
       " ' del ': 540,\n",
       " 'costr': 541,\n",
       " ' ein ': 542,\n",
       " 'tat': 543,\n",
       " ' go': 544,\n",
       " 'lic': 545,\n",
       " 'm e': 546,\n",
       " 'seu': 547,\n",
       " 'o ch': 548,\n",
       " 'enti': 549,\n",
       " ' pas ': 550,\n",
       " ' was': 551,\n",
       " 'esp': 552,\n",
       " 'e est': 553,\n",
       " 'sse ': 554,\n",
       " 'so ': 555,\n",
       " 'non a': 556,\n",
       " 'know ': 557,\n",
       " 'elle': 558,\n",
       " 'e voc': 559,\n",
       " 's n': 560,\n",
       " 'non': 561,\n",
       " 'ou ': 562,\n",
       " ' fa': 563,\n",
       " ' dé': 564,\n",
       " 'ben ': 565,\n",
       " 'ate': 566,\n",
       " 'ren': 567,\n",
       " 'e p': 568,\n",
       " 'nt ': 569,\n",
       " ' said': 570,\n",
       " 'rs ': 571,\n",
       " 'ssi': 572,\n",
       " ' al ': 573,\n",
       " 'ati': 574,\n",
       " 'here': 575,\n",
       " 's w': 576,\n",
       " 'our ': 577,\n",
       " 's d': 578,\n",
       " 'la s': 579,\n",
       " 'uit': 580,\n",
       " 'rt ': 581,\n",
       " ' lo': 582,\n",
       " 't b': 583,\n",
       " ' un ': 584,\n",
       " 'h w': 585,\n",
       " 'said ': 586,\n",
       " 'wie': 587,\n",
       " 'g to ': 588,\n",
       " 'lla': 589,\n",
       " 'd to': 590,\n",
       " 'aid': 591,\n",
       " 'ron': 592,\n",
       " ' zu': 593,\n",
       " 'ar ': 594,\n",
       " 'que ': 595,\n",
       " 'pou': 596,\n",
       " 'ero': 597,\n",
       " ' have': 598,\n",
       " ' está': 599,\n",
       " ' his ': 600,\n",
       " 'now ': 601,\n",
       " 'ace': 602,\n",
       " ' her': 603,\n",
       " 'está': 604,\n",
       " 'ed to': 605,\n",
       " ' ri': 606,\n",
       " ' den': 607,\n",
       " ' be ': 608,\n",
       " 'to ': 609,\n",
       " 'icht ': 610,\n",
       " 'eine ': 611,\n",
       " 'men': 612,\n",
       " 'ver': 613,\n",
       " ' im': 614,\n",
       " 't pa': 615,\n",
       " 'm and': 616,\n",
       " 'a ma': 617,\n",
       " 'de ': 618,\n",
       " 'es c': 619,\n",
       " ' à l': 620,\n",
       " 'm c': 621,\n",
       " 'o se': 622,\n",
       " 's qu': 623,\n",
       " 'o qu': 624,\n",
       " 'rde': 625,\n",
       " 'r d': 626,\n",
       " 'tem': 627,\n",
       " 'ha ': 628,\n",
       " 'cos': 629,\n",
       " 'se ': 630,\n",
       " 't a': 631,\n",
       " 'r le': 632,\n",
       " 'ld ': 633,\n",
       " ' per ': 634,\n",
       " 'ese': 635,\n",
       " 'e to ': 636,\n",
       " 'e m': 637,\n",
       " 'quel': 638,\n",
       " 'ly ': 639,\n",
       " ' a co': 640,\n",
       " ' sch': 641,\n",
       " 'tou': 642,\n",
       " ' die': 643,\n",
       " 'car': 644,\n",
       " 'que': 645,\n",
       " 'cht ': 646,\n",
       " 'nte ': 647,\n",
       " 'está ': 648,\n",
       " 'i t': 649,\n",
       " ' tr': 650,\n",
       " 'idnt ': 651,\n",
       " 's pa': 652,\n",
       " 'm a': 653,\n",
       " 'e ha': 654,\n",
       " 'ay ': 655,\n",
       " 's o': 656,\n",
       " ' al': 657,\n",
       " 'ns ': 658,\n",
       " 'ige': 659,\n",
       " 'e in ': 660,\n",
       " 'nal': 661,\n",
       " 'ein': 662,\n",
       " ' co': 663,\n",
       " 'ith ': 664,\n",
       " 'i m': 665,\n",
       " ' je': 666,\n",
       " 'r m': 667,\n",
       " 'n p': 668,\n",
       " 'a que': 669,\n",
       " 'ind': 670,\n",
       " 'wer': 671,\n",
       " 'ità ': 672,\n",
       " 'kann': 673,\n",
       " ' une': 674,\n",
       " 'wen': 675,\n",
       " ' ge': 676,\n",
       " 'aid ': 677,\n",
       " 'cê ': 678,\n",
       " ' sono': 679,\n",
       " 'i in': 680,\n",
       " ' want': 681,\n",
       " 'e vo': 682,\n",
       " 'st d': 683,\n",
       " 'ante': 684,\n",
       " 'e ne ': 685,\n",
       " 'are ': 686,\n",
       " ' sei': 687,\n",
       " 'a cos': 688,\n",
       " 'per': 689,\n",
       " 'ando ': 690,\n",
       " ' it': 691,\n",
       " 'o i': 692,\n",
       " 'mit': 693,\n",
       " 'o po': 694,\n",
       " 'ome': 695,\n",
       " 'e th': 696,\n",
       " ' por': 697,\n",
       " 'e b': 698,\n",
       " 'for ': 699,\n",
       " 'nalit': 700,\n",
       " 'mo ': 701,\n",
       " 'n m': 702,\n",
       " 'ter': 703,\n",
       " 'ann ': 704,\n",
       " 'e na': 705,\n",
       " 'ía ': 706,\n",
       " 'acc': 707,\n",
       " 'ait': 708,\n",
       " 'with': 709,\n",
       " 'ele ': 710,\n",
       " ' ét': 711,\n",
       " ' na ': 712,\n",
       " 'ica': 713,\n",
       " ' re': 714,\n",
       " 'dont ': 715,\n",
       " 'n n': 716,\n",
       " 's u': 717,\n",
       " 'tes ': 718,\n",
       " 'a es': 719,\n",
       " 'ede': 720,\n",
       " 'o di': 721,\n",
       " 'ua ': 722,\n",
       " 'n v': 723,\n",
       " ' didn': 724,\n",
       " 'kan': 725,\n",
       " 'ser': 726,\n",
       " 'ss ': 727,\n",
       " ' pre': 728,\n",
       " 'ues': 729,\n",
       " 'die': 730,\n",
       " 'ui ': 731,\n",
       " ' ac': 732,\n",
       " ' hat': 733,\n",
       " 'ente ': 734,\n",
       " 'azio': 735,\n",
       " 'onali': 736,\n",
       " 'e qu': 737,\n",
       " 'a d': 738,\n",
       " 'emp': 739,\n",
       " 'ono': 740,\n",
       " ' pou': 741,\n",
       " 'hat': 742,\n",
       " 'nda': 743,\n",
       " 'diese': 744,\n",
       " ' con': 745,\n",
       " ' pr': 746,\n",
       " 'he n': 747,\n",
       " 'voi': 748,\n",
       " 'mei': 749,\n",
       " 'sie ': 750,\n",
       " 'o te': 751,\n",
       " 'anda': 752,\n",
       " 'for': 753,\n",
       " 'n a': 754,\n",
       " 'pas ': 755,\n",
       " 'hab': 756,\n",
       " 'that': 757,\n",
       " ' ih': 758,\n",
       " 'une ': 759,\n",
       " 'dont': 760,\n",
       " 'ici': 761,\n",
       " 'tte': 762,\n",
       " 'a n': 763,\n",
       " 'ón ': 764,\n",
       " 'vor': 765,\n",
       " 'éta': 766,\n",
       " 'ans': 767,\n",
       " 'em ': 768,\n",
       " 'rie': 769,\n",
       " 'n el ': 770,\n",
       " ' his': 771,\n",
       " 'cou': 772,\n",
       " 'o f': 773,\n",
       " 'n s': 774,\n",
       " 'es p': 775,\n",
       " 'er s': 776,\n",
       " ' do': 777,\n",
       " ' to ': 778,\n",
       " 'amen': 779,\n",
       " ' auf ': 780,\n",
       " 'll ': 781,\n",
       " 'on a': 782,\n",
       " 'cont': 783,\n",
       " 'ás ': 784,\n",
       " ' tu ': 785,\n",
       " 'e l': 786,\n",
       " 'ece': 787,\n",
       " 'ther': 788,\n",
       " 'go ': 789,\n",
       " 's h': 790,\n",
       " 'plus': 791,\n",
       " ' os ': 792,\n",
       " 'isso': 793,\n",
       " 'is ': 794,\n",
       " 'quest': 795,\n",
       " 'sai': 796,\n",
       " 'e u': 797,\n",
       " ' qui ': 798,\n",
       " 'ges': 799,\n",
       " 'tar': 800,\n",
       " ' an': 801,\n",
       " 's de': 802,\n",
       " ' der ': 803,\n",
       " 'e g': 804,\n",
       " 'e n': 805,\n",
       " ' da ': 806,\n",
       " 'sic': 807,\n",
       " 'je ': 808,\n",
       " 'mon': 809,\n",
       " 'enh': 810,\n",
       " 'nen ': 811,\n",
       " ' bi': 812,\n",
       " ' pi': 813,\n",
       " 'naz': 814,\n",
       " 'nde': 815,\n",
       " 'ela ': 816,\n",
       " 'nali': 817,\n",
       " 'ostru': 818,\n",
       " 'hen': 819,\n",
       " ' esta': 820,\n",
       " 'ció': 821,\n",
       " 'al ': 822,\n",
       " 'a di': 823,\n",
       " 'ine': 824,\n",
       " 'mary ': 825,\n",
       " 'ción': 826,\n",
       " 'ot ': 827,\n",
       " ' das': 828,\n",
       " 'ti ': 829,\n",
       " 'sie': 830,\n",
       " ' von': 831,\n",
       " ' las ': 832,\n",
       " 'ung': 833,\n",
       " 't n': 834,\n",
       " 'bre': 835,\n",
       " ' eu': 836,\n",
       " 'à l': 837,\n",
       " 'chi': 838,\n",
       " 's co': 839,\n",
       " 'ch d': 840,\n",
       " 'ner': 841,\n",
       " 'ère': 842,\n",
       " ' ja': 843,\n",
       " 'a h': 844,\n",
       " ' hab': 845,\n",
       " 'er ': 846,\n",
       " 't the': 847,\n",
       " 'su ': 848,\n",
       " 'rei': 849,\n",
       " 'i a': 850,\n",
       " 'quan': 851,\n",
       " 'ons': 852,\n",
       " 'ter ': 853,\n",
       " ' plu': 854,\n",
       " 'd to ': 855,\n",
       " 'ary': 856,\n",
       " 'tu ': 857,\n",
       " 'ain': 858,\n",
       " 'i in ': 859,\n",
       " 'a se': 860,\n",
       " 'm d': 861,\n",
       " 'eu ': 862,\n",
       " 't e': 863,\n",
       " 'ire': 864,\n",
       " 'einen': 865,\n",
       " ' tha': 866,\n",
       " 'ber': 867,\n",
       " 'you ': 868,\n",
       " 'nder': 869,\n",
       " 'i ch': 870,\n",
       " 'ger': 871,\n",
       " 'esc': 872,\n",
       " 'zer ': 873,\n",
       " 'hin': 874,\n",
       " 'e so': 875,\n",
       " 'que e': 876,\n",
       " 'ist': 877,\n",
       " 'i i': 878,\n",
       " 'hte': 879,\n",
       " ' das ': 880,\n",
       " ' sta': 881,\n",
       " 'ur ': 882,\n",
       " 'y w': 883,\n",
       " 'jai': 884,\n",
       " 'o h': 885,\n",
       " 'ure': 886,\n",
       " 'o u': 887,\n",
       " 'uve': 888,\n",
       " 'nha': 889,\n",
       " ' not': 890,\n",
       " ' as': 891,\n",
       " 'dass': 892,\n",
       " 'mi ': 893,\n",
       " 'eit': 894,\n",
       " 'che ': 895,\n",
       " ' um': 896,\n",
       " 'aut': 897,\n",
       " 'iss': 898,\n",
       " 'lità': 899,\n",
       " 'ell': 900,\n",
       " 'o to': 901,\n",
       " ' che ': 902,\n",
       " 'st ': 903,\n",
       " 'iese': 904,\n",
       " ' tie': 905,\n",
       " 'ido ': 906,\n",
       " 'o pa': 907,\n",
       " 'amo ': 908,\n",
       " ' nic': 909,\n",
       " 'i d': 910,\n",
       " 'não ': 911,\n",
       " 'ita': 912,\n",
       " 'n k': 913,\n",
       " 'por ': 914,\n",
       " 'von ': 915,\n",
       " 'faze': 916,\n",
       " 'tro': 917,\n",
       " 'del': 918,\n",
       " 'stá': 919,\n",
       " 'qua': 920,\n",
       " 'ke ': 921,\n",
       " 'have': 922,\n",
       " 's que': 923,\n",
       " 'th ': 924,\n",
       " 'a f': 925,\n",
       " ' est ': 926,\n",
       " 'e ne': 927,\n",
       " 'ist ': 928,\n",
       " 'ed t': 929,\n",
       " 'isc': 930,\n",
       " 'ner ': 931,\n",
       " ' má': 932,\n",
       " 'what': 933,\n",
       " ' kno': 934,\n",
       " 'cio': 935,\n",
       " 'nt t': 936,\n",
       " 'sich ': 937,\n",
       " 'igh': 938,\n",
       " 'omm': 939,\n",
       " ' é ': 940,\n",
       " 't c': 941,\n",
       " ' muit': 942,\n",
       " 't to': 943,\n",
       " 'n an': 944,\n",
       " 'e que': 945,\n",
       " 'ito ': 946,\n",
       " 'mit ': 947,\n",
       " 'a de': 948,\n",
       " 'ous ': 949,\n",
       " 'los ': 950,\n",
       " 'aus': 951,\n",
       " 'ted ': 952,\n",
       " 'n z': 953,\n",
       " ' ch': 954,\n",
       " 'das': 955,\n",
       " ' mai': 956,\n",
       " 'sto ': 957,\n",
       " 'sche': 958,\n",
       " 'ait ': 959,\n",
       " 'non v': 960,\n",
       " 'tto': 961,\n",
       " 'ue ': 962,\n",
       " 'n l': 963,\n",
       " 'schen': 964,\n",
       " 's a': 965,\n",
       " 've ': 966,\n",
       " 'o a ': 967,\n",
       " 'faz': 968,\n",
       " ' the ': 969,\n",
       " 'n th': 970,\n",
       " 't i': 971,\n",
       " 'da ': 972,\n",
       " 'uest': 973,\n",
       " 'e in': 974,\n",
       " 'enn': 975,\n",
       " 'avai': 976,\n",
       " 'lle ': 977,\n",
       " 'o t': 978,\n",
       " 'para ': 979,\n",
       " 'fai': 980,\n",
       " 'mas': 981,\n",
       " 'acht': 982,\n",
       " ' von ': 983,\n",
       " 'tes': 984,\n",
       " 'end': 985,\n",
       " 't l': 986,\n",
       " 'eau': 987,\n",
       " 'gio': 988,\n",
       " 'dade': 989,\n",
       " 'nou': 990,\n",
       " 'wir': 991,\n",
       " 'g to': 992,\n",
       " 'mais ': 993,\n",
       " 'il ': 994,\n",
       " 't de ': 995,\n",
       " 'nicht': 996,\n",
       " 'los': 997,\n",
       " 'len': 998,\n",
       " 'lo ': 999,\n",
       " ...}"
      ]
     },
     "execution_count": 139,
     "metadata": {},
     "output_type": "execute_result"
    }
   ],
   "source": [
    "vocab_index"
   ]
  },
  {
   "cell_type": "code",
   "execution_count": 140,
   "id": "aa08a987",
   "metadata": {},
   "outputs": [
    {
     "data": {
      "text/plain": [
       "1564"
      ]
     },
     "execution_count": 140,
     "metadata": {},
     "output_type": "execute_result"
    }
   ],
   "source": [
    "len(vocab_index)"
   ]
  },
  {
   "cell_type": "code",
   "execution_count": 141,
   "id": "c48c8ae1",
   "metadata": {},
   "outputs": [],
   "source": [
    "#put the vocab_index to the CountVectorizer\n",
    "vectorizer = CountVectorizer(analyzer='char', ngram_range=n_gram, vocabulary=vocab_index)\n",
    "\n",
    "#create feature matrix for training set\n",
    "train_sentences = train['sentence']   \n",
    "train_X = vectorizer.fit_transform(train_sentences)\n",
    "feature_names = vectorizer.get_feature_names()\n",
    "\n",
    "train_features = pd.DataFrame(data=train_X.toarray(),columns=feature_names)"
   ]
  },
  {
   "cell_type": "markdown",
   "id": "97e14e57",
   "metadata": {},
   "source": [
    "Executing the same steps on the validation and testing datasets."
   ]
  },
  {
   "cell_type": "code",
   "execution_count": 142,
   "id": "239e5b41",
   "metadata": {},
   "outputs": [],
   "source": [
    "#create feature matrix for validation set\n",
    "valid_sentences = validation['sentence']   \n",
    "valid_X = vectorizer.fit_transform(valid_sentences)\n",
    "valid_features = pd.DataFrame(data=valid_X.toarray(),columns=feature_names)\n",
    "\n",
    "#create feature matrix for test set\n",
    "test_sentences = test['sentence']   \n",
    "test_X = vectorizer.fit_transform(test_sentences)\n",
    "test_features = pd.DataFrame(data=test_X.toarray(),columns=feature_names)\n"
   ]
  },
  {
   "cell_type": "markdown",
   "id": "3afd0bd8",
   "metadata": {},
   "source": [
    "Now, I will scale feature, to help the model to converge."
   ]
  },
  {
   "cell_type": "code",
   "execution_count": 143,
   "id": "59993f8b",
   "metadata": {},
   "outputs": [],
   "source": [
    "#Scale feature matrix \n",
    "train_min = train_features.min()\n",
    "train_max = train_features.max()\n",
    "train_features = (train_features - train_min)/(train_max-train_min)\n",
    "\n",
    "#Add target variable \n",
    "train_features['Language'] = list(train['Language'])"
   ]
  },
  {
   "cell_type": "code",
   "execution_count": 144,
   "id": "1fae87a7",
   "metadata": {},
   "outputs": [],
   "source": [
    "valid_features = (valid_features - train_min)/(train_max-train_min)\n",
    "valid_features['Language'] = list(validation['Language'])"
   ]
  },
  {
   "cell_type": "code",
   "execution_count": 145,
   "id": "621db191",
   "metadata": {},
   "outputs": [],
   "source": [
    "test_features = (test_features - train_min)/(train_max-train_min)\n",
    "test_features['Language'] = list(test['Language'])"
   ]
  },
  {
   "cell_type": "code",
   "execution_count": 146,
   "id": "29652325",
   "metadata": {},
   "outputs": [
    {
     "data": {
      "text/plain": [
       "i w      3\n",
       "or       6\n",
       "want     2\n",
       "str      6\n",
       "zio      4\n",
       "        ..\n",
       "s en     3\n",
       "den      5\n",
       "ndo      4\n",
       " you     7\n",
       " qu     11\n",
       "Length: 1564, dtype: int64"
      ]
     },
     "execution_count": 146,
     "metadata": {},
     "output_type": "execute_result"
    }
   ],
   "source": [
    "train_max"
   ]
  },
  {
   "cell_type": "markdown",
   "id": "e555419c",
   "metadata": {},
   "source": [
    "## 6. Modeling"
   ]
  },
  {
   "cell_type": "markdown",
   "id": "321a4fc7",
   "metadata": {},
   "source": [
    "Fristly, before building the model, we should convert the target labels into one hot encooding."
   ]
  },
  {
   "cell_type": "code",
   "execution_count": 105,
   "id": "f31dcc5b",
   "metadata": {},
   "outputs": [],
   "source": [
    "from sklearn.preprocessing import LabelEncoder\n",
    "from keras.utils import np_utils\n",
    "\n",
    "#Fit encoder\n",
    "encoder = LabelEncoder()\n",
    "encoder.fit(lang_ls)\n",
    "\n",
    "def obtain_onehot_encode(y):\n",
    "    y_encoded = encoder.transform(y)\n",
    "    y_dummy = np_utils.to_categorical(y_encoded)\n",
    "    return y_dummy"
   ]
  },
  {
   "cell_type": "code",
   "execution_count": 106,
   "id": "c6f94103",
   "metadata": {
    "scrolled": true
   },
   "outputs": [
    {
     "name": "stdout",
     "output_type": "stream",
     "text": [
      "Epoch 1/4\n",
      "938/938 [==============================] - 13s 13ms/step - loss: 0.1167 - accuracy: 0.9643 - val_loss: 0.0136 - val_accuracy: 0.9955\n",
      "Epoch 2/4\n",
      "938/938 [==============================] - 11s 12ms/step - loss: 0.0077 - accuracy: 0.9975 - val_loss: 0.0103 - val_accuracy: 0.9969\n",
      "Epoch 3/4\n",
      "938/938 [==============================] - 11s 12ms/step - loss: 0.0059 - accuracy: 0.9982 - val_loss: 0.0127 - val_accuracy: 0.9967\n",
      "Epoch 4/4\n",
      "938/938 [==============================] - 11s 12ms/step - loss: 0.0030 - accuracy: 0.9991 - val_loss: 0.0133 - val_accuracy: 0.9969\n"
     ]
    },
    {
     "data": {
      "text/plain": [
       "<keras.callbacks.History at 0x1a6ffbe9610>"
      ]
     },
     "execution_count": 106,
     "metadata": {},
     "output_type": "execute_result"
    }
   ],
   "source": [
    "from keras.models import Sequential\n",
    "from keras.layers import Dense\n",
    "\n",
    "#Get training data\n",
    "x_train = train_features.drop('Language',axis=1)\n",
    "y_train = obtain_onehot_encode(train_features['Language'])\n",
    "\n",
    "#Get training data\n",
    "x_val = valid_features.drop('Language',axis=1)\n",
    "y_val = obtain_onehot_encode(valid_features['Language'])\n",
    "\n",
    "\n",
    "#Define model\n",
    "model = Sequential()\n",
    "model.add(Dense(1024, input_dim=len(vocab_index), activation='relu'))\n",
    "model.add(Dense(512, activation='relu'))\n",
    "model.add(Dense(250, activation='relu'))\n",
    "model.add(Dense(128, activation='relu'))\n",
    "model.add(Dense(64, activation='relu'))\n",
    "model.add(Dense(len(lang_ls), activation='softmax'))\n",
    "model.compile(loss='categorical_crossentropy', optimizer='adam', metrics=['accuracy'])\n",
    "\n",
    "#Train model\n",
    "model.fit(x_train, y_train, validation_data = (x_val, y_val) ,epochs=4, batch_size=256)"
   ]
  },
  {
   "cell_type": "code",
   "execution_count": 107,
   "id": "76f0954b",
   "metadata": {},
   "outputs": [],
   "source": [
    "model.save('latin_model.h5')"
   ]
  },
  {
   "cell_type": "markdown",
   "id": "8f358143",
   "metadata": {},
   "source": [
    "## 7. Evaluation"
   ]
  },
  {
   "cell_type": "code",
   "execution_count": 108,
   "id": "f79d7431",
   "metadata": {
    "scrolled": false
   },
   "outputs": [
    {
     "name": "stderr",
     "output_type": "stream",
     "text": [
      "C:\\Users\\marwa\\anaconda3\\envs\\nlp_env\\lib\\site-packages\\keras\\engine\\sequential.py:450: UserWarning: `model.predict_classes()` is deprecated and will be removed after 2021-01-01. Please use instead:* `np.argmax(model.predict(x), axis=-1)`,   if your model does multi-class classification   (e.g. if it uses a `softmax` last-layer activation).* `(model.predict(x) > 0.5).astype(\"int32\")`,   if your model does binary classification   (e.g. if it uses a `sigmoid` last-layer activation).\n",
      "  warnings.warn('`model.predict_classes()` is deprecated and '\n"
     ]
    },
    {
     "name": "stdout",
     "output_type": "stream",
     "text": [
      "0.9968333333333333\n"
     ]
    },
    {
     "data": {
      "text/plain": [
       "Text(61.5, 0.5, 'Actual')"
      ]
     },
     "execution_count": 108,
     "metadata": {},
     "output_type": "execute_result"
    },
    {
     "data": {
      "image/png": "[encoded data removed]",
      "text/plain": [
       "<Figure size 720x720 with 1 Axes>"
      ]
     },
     "metadata": {},
     "output_type": "display_data"
    }
   ],
   "source": [
    "import matplotlib.pyplot as plt\n",
    "import seaborn as sns\n",
    "from sklearn.metrics import accuracy_score,confusion_matrix\n",
    "\n",
    "x_test = test_features.drop('Language',axis=1)\n",
    "y_test = test_features['Language']\n",
    "\n",
    "#Get predictions on test set\n",
    "labels = model.predict_classes(x_test)\n",
    "predictions = encoder.inverse_transform(labels)\n",
    "\n",
    "#Accuracy on test set\n",
    "accuracy = accuracy_score(y_test,predictions)\n",
    "print(accuracy)\n",
    "\n",
    "#Create confusion matrix\n",
    "conf_matrix = confusion_matrix(y_test,predictions)\n",
    "conf_matrix_df = pd.DataFrame(conf_matrix,columns=lang_ls,index=lang_ls)\n",
    "\n",
    "#Plot confusion matrix heatmap\n",
    "plt.figure(figsize=(10, 10), facecolor='w', edgecolor='k')\n",
    "sns.set(font_scale=1.5)\n",
    "sns.heatmap(conf_matrix_df,cmap='coolwarm',annot=True,fmt='.5g',cbar=False)\n",
    "plt.xlabel('Predicted',fontsize=22)\n",
    "plt.ylabel('Actual',fontsize=22)"
   ]
  },
  {
   "cell_type": "markdown",
   "id": "b002d3ed",
   "metadata": {},
   "source": [
    "We can see from the above matrix 4995 sentences, 4991 are detected as english (true positive), 3 as french, and 1 as portuguese (4 are false negative).\n",
    "\n",
    "For German langauage, we have 4920 sentences, only 4916 are true positive. There are 4 are false negative.\n",
    "We, can notice that the largest confusion is between spanish and portuges."
   ]
  },
  {
   "cell_type": "markdown",
   "id": "22932240",
   "metadata": {},
   "source": [
    "## 8. Inference"
   ]
  },
  {
   "cell_type": "code",
   "execution_count": 149,
   "id": "109d6517",
   "metadata": {},
   "outputs": [],
   "source": [
    "def get_inferred(sentence_ls):\n",
    "    test_sentence = pro_process(sentence_ls)\n",
    "    test_sen = vectorizer.fit_transform(test_sentence)\n",
    "    test_feat = pd.DataFrame(data=test_sen.toarray(),columns=feature_names)\n",
    "    test_feat = (test_feat - train_min)/(train_max-train_min)\n",
    "    l = model.predict_classes(test_feat)\n",
    "    predicted_label = encoder.inverse_transform(l)    \n",
    "    return predicted_label"
   ]
  },
  {
   "cell_type": "code",
   "execution_count": 150,
   "id": "24281221",
   "metadata": {},
   "outputs": [],
   "source": [
    "def main():\n",
    "    print(\"Please enter your sentence: \")\n",
    "    while True:\n",
    "        im = input()\n",
    "        if im.lower() == 'bye':\n",
    "            print(\"bye!\")\n",
    "            break\n",
    "        else:\n",
    "            #print([im])\n",
    "            df_test = pd.DataFrame()\n",
    "            df_test['sentence'] = [im]\n",
    "            print(\"The sentence language is: \"+get_inferred(df_test.sentence)[0])\n",
    "    "
   ]
  },
  {
   "cell_type": "code",
   "execution_count": 117,
   "id": "9a94c3c5",
   "metadata": {},
   "outputs": [
    {
     "name": "stdout",
     "output_type": "stream",
     "text": [
      "Please enter your sentence: \n",
      "Ich liebe EIS\n"
     ]
    },
    {
     "name": "stderr",
     "output_type": "stream",
     "text": [
      "C:\\Users\\marwa\\anaconda3\\envs\\nlp_env\\lib\\site-packages\\keras\\engine\\sequential.py:450: UserWarning: `model.predict_classes()` is deprecated and will be removed after 2021-01-01. Please use instead:* `np.argmax(model.predict(x), axis=-1)`,   if your model does multi-class classification   (e.g. if it uses a `softmax` last-layer activation).* `(model.predict(x) > 0.5).astype(\"int32\")`,   if your model does binary classification   (e.g. if it uses a `sigmoid` last-layer activation).\n",
      "  warnings.warn('`model.predict_classes()` is deprecated and '\n"
     ]
    },
    {
     "name": "stdout",
     "output_type": "stream",
     "text": [
      "['deu']\n",
      "The sentence language is: deu\n",
      "I like ice cream\n"
     ]
    },
    {
     "name": "stderr",
     "output_type": "stream",
     "text": [
      "C:\\Users\\marwa\\anaconda3\\envs\\nlp_env\\lib\\site-packages\\keras\\engine\\sequential.py:450: UserWarning: `model.predict_classes()` is deprecated and will be removed after 2021-01-01. Please use instead:* `np.argmax(model.predict(x), axis=-1)`,   if your model does multi-class classification   (e.g. if it uses a `softmax` last-layer activation).* `(model.predict(x) > 0.5).astype(\"int32\")`,   if your model does binary classification   (e.g. if it uses a `sigmoid` last-layer activation).\n",
      "  warnings.warn('`model.predict_classes()` is deprecated and '\n"
     ]
    },
    {
     "name": "stdout",
     "output_type": "stream",
     "text": [
      "['spa']\n",
      "The sentence language is: spa\n",
      "I study engineering\n"
     ]
    },
    {
     "name": "stderr",
     "output_type": "stream",
     "text": [
      "C:\\Users\\marwa\\anaconda3\\envs\\nlp_env\\lib\\site-packages\\keras\\engine\\sequential.py:450: UserWarning: `model.predict_classes()` is deprecated and will be removed after 2021-01-01. Please use instead:* `np.argmax(model.predict(x), axis=-1)`,   if your model does multi-class classification   (e.g. if it uses a `softmax` last-layer activation).* `(model.predict(x) > 0.5).astype(\"int32\")`,   if your model does binary classification   (e.g. if it uses a `sigmoid` last-layer activation).\n",
      "  warnings.warn('`model.predict_classes()` is deprecated and '\n"
     ]
    },
    {
     "name": "stdout",
     "output_type": "stream",
     "text": [
      "['eng']\n",
      "The sentence language is: eng\n",
      "I like ice-cream\n"
     ]
    },
    {
     "name": "stderr",
     "output_type": "stream",
     "text": [
      "C:\\Users\\marwa\\anaconda3\\envs\\nlp_env\\lib\\site-packages\\keras\\engine\\sequential.py:450: UserWarning: `model.predict_classes()` is deprecated and will be removed after 2021-01-01. Please use instead:* `np.argmax(model.predict(x), axis=-1)`,   if your model does multi-class classification   (e.g. if it uses a `softmax` last-layer activation).* `(model.predict(x) > 0.5).astype(\"int32\")`,   if your model does binary classification   (e.g. if it uses a `sigmoid` last-layer activation).\n",
      "  warnings.warn('`model.predict_classes()` is deprecated and '\n"
     ]
    },
    {
     "name": "stdout",
     "output_type": "stream",
     "text": [
      "['eng']\n",
      "The sentence language is: eng\n",
      "Er is mein Sohn\n"
     ]
    },
    {
     "name": "stderr",
     "output_type": "stream",
     "text": [
      "C:\\Users\\marwa\\anaconda3\\envs\\nlp_env\\lib\\site-packages\\keras\\engine\\sequential.py:450: UserWarning: `model.predict_classes()` is deprecated and will be removed after 2021-01-01. Please use instead:* `np.argmax(model.predict(x), axis=-1)`,   if your model does multi-class classification   (e.g. if it uses a `softmax` last-layer activation).* `(model.predict(x) > 0.5).astype(\"int32\")`,   if your model does binary classification   (e.g. if it uses a `sigmoid` last-layer activation).\n",
      "  warnings.warn('`model.predict_classes()` is deprecated and '\n"
     ]
    },
    {
     "name": "stdout",
     "output_type": "stream",
     "text": [
      "['deu']\n",
      "The sentence language is: deu\n",
      "Ich gehe draussen\n"
     ]
    },
    {
     "name": "stderr",
     "output_type": "stream",
     "text": [
      "C:\\Users\\marwa\\anaconda3\\envs\\nlp_env\\lib\\site-packages\\keras\\engine\\sequential.py:450: UserWarning: `model.predict_classes()` is deprecated and will be removed after 2021-01-01. Please use instead:* `np.argmax(model.predict(x), axis=-1)`,   if your model does multi-class classification   (e.g. if it uses a `softmax` last-layer activation).* `(model.predict(x) > 0.5).astype(\"int32\")`,   if your model does binary classification   (e.g. if it uses a `sigmoid` last-layer activation).\n",
      "  warnings.warn('`model.predict_classes()` is deprecated and '\n"
     ]
    },
    {
     "name": "stdout",
     "output_type": "stream",
     "text": [
      "['deu']\n",
      "The sentence language is: deu\n",
      "I will go to Egypt in the summer\n"
     ]
    },
    {
     "name": "stderr",
     "output_type": "stream",
     "text": [
      "C:\\Users\\marwa\\anaconda3\\envs\\nlp_env\\lib\\site-packages\\keras\\engine\\sequential.py:450: UserWarning: `model.predict_classes()` is deprecated and will be removed after 2021-01-01. Please use instead:* `np.argmax(model.predict(x), axis=-1)`,   if your model does multi-class classification   (e.g. if it uses a `softmax` last-layer activation).* `(model.predict(x) > 0.5).astype(\"int32\")`,   if your model does binary classification   (e.g. if it uses a `sigmoid` last-layer activation).\n",
      "  warnings.warn('`model.predict_classes()` is deprecated and '\n"
     ]
    },
    {
     "name": "stdout",
     "output_type": "stream",
     "text": [
      "['eng']\n",
      "The sentence language is: eng\n",
      "This book is very intersting\n"
     ]
    },
    {
     "name": "stderr",
     "output_type": "stream",
     "text": [
      "C:\\Users\\marwa\\anaconda3\\envs\\nlp_env\\lib\\site-packages\\keras\\engine\\sequential.py:450: UserWarning: `model.predict_classes()` is deprecated and will be removed after 2021-01-01. Please use instead:* `np.argmax(model.predict(x), axis=-1)`,   if your model does multi-class classification   (e.g. if it uses a `softmax` last-layer activation).* `(model.predict(x) > 0.5).astype(\"int32\")`,   if your model does binary classification   (e.g. if it uses a `sigmoid` last-layer activation).\n",
      "  warnings.warn('`model.predict_classes()` is deprecated and '\n"
     ]
    },
    {
     "name": "stdout",
     "output_type": "stream",
     "text": [
      "['eng']\n",
      "The sentence language is: eng\n",
      "Mein sohn heisst Omar\n"
     ]
    },
    {
     "name": "stderr",
     "output_type": "stream",
     "text": [
      "C:\\Users\\marwa\\anaconda3\\envs\\nlp_env\\lib\\site-packages\\keras\\engine\\sequential.py:450: UserWarning: `model.predict_classes()` is deprecated and will be removed after 2021-01-01. Please use instead:* `np.argmax(model.predict(x), axis=-1)`,   if your model does multi-class classification   (e.g. if it uses a `softmax` last-layer activation).* `(model.predict(x) > 0.5).astype(\"int32\")`,   if your model does binary classification   (e.g. if it uses a `sigmoid` last-layer activation).\n",
      "  warnings.warn('`model.predict_classes()` is deprecated and '\n"
     ]
    },
    {
     "name": "stdout",
     "output_type": "stream",
     "text": [
      "['deu']\n",
      "The sentence language is: deu\n",
      "thanks\n"
     ]
    },
    {
     "name": "stderr",
     "output_type": "stream",
     "text": [
      "C:\\Users\\marwa\\anaconda3\\envs\\nlp_env\\lib\\site-packages\\keras\\engine\\sequential.py:450: UserWarning: `model.predict_classes()` is deprecated and will be removed after 2021-01-01. Please use instead:* `np.argmax(model.predict(x), axis=-1)`,   if your model does multi-class classification   (e.g. if it uses a `softmax` last-layer activation).* `(model.predict(x) > 0.5).astype(\"int32\")`,   if your model does binary classification   (e.g. if it uses a `sigmoid` last-layer activation).\n",
      "  warnings.warn('`model.predict_classes()` is deprecated and '\n"
     ]
    },
    {
     "name": "stdout",
     "output_type": "stream",
     "text": [
      "['eng']\n",
      "The sentence language is: eng\n",
      "danke\n"
     ]
    },
    {
     "name": "stderr",
     "output_type": "stream",
     "text": [
      "C:\\Users\\marwa\\anaconda3\\envs\\nlp_env\\lib\\site-packages\\keras\\engine\\sequential.py:450: UserWarning: `model.predict_classes()` is deprecated and will be removed after 2021-01-01. Please use instead:* `np.argmax(model.predict(x), axis=-1)`,   if your model does multi-class classification   (e.g. if it uses a `softmax` last-layer activation).* `(model.predict(x) > 0.5).astype(\"int32\")`,   if your model does binary classification   (e.g. if it uses a `sigmoid` last-layer activation).\n",
      "  warnings.warn('`model.predict_classes()` is deprecated and '\n"
     ]
    },
    {
     "name": "stdout",
     "output_type": "stream",
     "text": [
      "['por']\n",
      "The sentence language is: por\n",
      "danke dir\n"
     ]
    },
    {
     "name": "stderr",
     "output_type": "stream",
     "text": [
      "C:\\Users\\marwa\\anaconda3\\envs\\nlp_env\\lib\\site-packages\\keras\\engine\\sequential.py:450: UserWarning: `model.predict_classes()` is deprecated and will be removed after 2021-01-01. Please use instead:* `np.argmax(model.predict(x), axis=-1)`,   if your model does multi-class classification   (e.g. if it uses a `softmax` last-layer activation).* `(model.predict(x) > 0.5).astype(\"int32\")`,   if your model does binary classification   (e.g. if it uses a `sigmoid` last-layer activation).\n",
      "  warnings.warn('`model.predict_classes()` is deprecated and '\n"
     ]
    },
    {
     "name": "stdout",
     "output_type": "stream",
     "text": [
      "['eng']\n",
      "The sentence language is: eng\n",
      "thanks\n"
     ]
    },
    {
     "name": "stderr",
     "output_type": "stream",
     "text": [
      "C:\\Users\\marwa\\anaconda3\\envs\\nlp_env\\lib\\site-packages\\keras\\engine\\sequential.py:450: UserWarning: `model.predict_classes()` is deprecated and will be removed after 2021-01-01. Please use instead:* `np.argmax(model.predict(x), axis=-1)`,   if your model does multi-class classification   (e.g. if it uses a `softmax` last-layer activation).* `(model.predict(x) > 0.5).astype(\"int32\")`,   if your model does binary classification   (e.g. if it uses a `sigmoid` last-layer activation).\n",
      "  warnings.warn('`model.predict_classes()` is deprecated and '\n"
     ]
    },
    {
     "name": "stdout",
     "output_type": "stream",
     "text": [
      "['eng']\n",
      "The sentence language is: eng\n",
      "bye\n",
      "bye!\n"
     ]
    }
   ],
   "source": [
    "main()"
   ]
  },
  {
   "cell_type": "markdown",
   "id": "761962e9",
   "metadata": {},
   "source": [
    "## 9. References\n"
   ]
  },
  {
   "cell_type": "markdown",
   "id": "9e81755a",
   "metadata": {},
   "source": [
    "[1] Simões, Alberto, José João Almeida and Simon D. Byers. “Language Identification: a Neural Network Approach.” SLATE (2014)."
   ]
  },
  {
   "cell_type": "code",
   "execution_count": null,
   "id": "6508aaba",
   "metadata": {},
   "outputs": [],
   "source": []
  }
 ],
 "metadata": {
  "kernelspec": {
   "display_name": "Python [conda env:nlp_env] *",
   "language": "python",
   "name": "conda-env-nlp_env-py"
  },
  "language_info": {
   "codemirror_mode": {
    "name": "ipython",
    "version": 3
   },
   "file_extension": ".py",
   "mimetype": "text/x-python",
   "name": "python",
   "nbconvert_exporter": "python",
   "pygments_lexer": "ipython3",
   "version": "3.9.5"
  }
 },
 "nbformat": 4,
 "nbformat_minor": 5
}
